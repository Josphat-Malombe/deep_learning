{
  "nbformat": 4,
  "nbformat_minor": 0,
  "metadata": {
    "colab": {
      "provenance": [],
      "gpuType": "T4",
      "authorship_tag": "ABX9TyOQOUoZeERS/tGNsHvmjIQc",
      "include_colab_link": true
    },
    "kernelspec": {
      "name": "python3",
      "display_name": "Python 3"
    },
    "language_info": {
      "name": "python"
    },
    "accelerator": "GPU"
  },
  "cells": [
    {
      "cell_type": "markdown",
      "metadata": {
        "id": "view-in-github",
        "colab_type": "text"
      },
      "source": [
        "<a href=\"https://colab.research.google.com/github/Josphat-Malombe/deep_learning/blob/main/model_001.ipynb\" target=\"_parent\"><img src=\"https://colab.research.google.com/assets/colab-badge.svg\" alt=\"Open In Colab\"/></a>"
      ]
    },
    {
      "cell_type": "code",
      "execution_count": null,
      "metadata": {
        "id": "-L4sth-IpmjS"
      },
      "outputs": [],
      "source": [
        "import torch\n",
        "from torch import nn\n",
        "import matplotlib.pyplot as plt"
      ]
    },
    {
      "cell_type": "code",
      "source": [
        "device = \"cuda\" if torch.cuda.is_available() else \"cpu\"\n"
      ],
      "metadata": {
        "id": "NuF7-ew1p1t2"
      },
      "execution_count": null,
      "outputs": []
    },
    {
      "cell_type": "code",
      "source": [
        "weight=0.9\n",
        "bias = 0.3\n",
        "\n",
        "start=0\n",
        "end=1\n",
        "step=0.02\n",
        "\n",
        "X=torch.arange(start,end,step).unsqueeze(dim=1)\n",
        "y= weight*X+bias\n",
        "train_split=int(0.7*len(X))\n",
        "X_train, y_train = X[:train_split], y[:train_split]\n",
        "X_test, y_test = X[train_split:], y[train_split:]\n",
        "len(X_train), len(y_train), len(X_test), len(y_test)"
      ],
      "metadata": {
        "colab": {
          "base_uri": "https://localhost:8080/"
        },
        "id": "y4wf7n1VqQXC",
        "outputId": "b576fdf6-8073-4cf9-e76a-d858403df96e"
      },
      "execution_count": null,
      "outputs": [
        {
          "output_type": "execute_result",
          "data": {
            "text/plain": [
              "(35, 35, 15, 15)"
            ]
          },
          "metadata": {},
          "execution_count": 29
        }
      ]
    },
    {
      "cell_type": "code",
      "source": [
        "class LinearModel(nn.Module):\n",
        "  def __init__(self):\n",
        "    super().__init__()\n",
        "\n",
        "    self.linear_layer=nn.Linear(in_features=1, out_features=1)\n",
        "\n",
        "  def forward(self, X:torch.Tensor)->torch.Tensor:\n",
        "    return self.linear_layer(X)\n"
      ],
      "metadata": {
        "id": "JAB1qbXVrbjT"
      },
      "execution_count": null,
      "outputs": []
    },
    {
      "cell_type": "code",
      "source": [
        "torch.manual_seed(42)\n",
        "model_exercise=LinearModel()\n"
      ],
      "metadata": {
        "id": "WSB9SFTnsQd_"
      },
      "execution_count": null,
      "outputs": []
    },
    {
      "cell_type": "code",
      "source": [
        "criterion=nn.L1Loss()\n",
        "optimizer=torch.optim.SGD(params=model_exercise.parameters(),lr=0.01)"
      ],
      "metadata": {
        "id": "gVyacgbVsgnT"
      },
      "execution_count": null,
      "outputs": []
    },
    {
      "cell_type": "code",
      "source": [
        "torch.manual_seed\n",
        "epochs = 100\n",
        "for epoch in range(epochs):\n",
        "  model_exercise.train()\n",
        "  y_pred=model_exercise(X_train)\n",
        "  loss=criterion(y_pred ,y_train)\n",
        "  optimizer.zero_grad()\n",
        "  loss.backward()\n",
        "  optimizer.step()\n",
        "\n",
        "  model_exercise.eval()\n",
        "  with torch.inference_mode():\n",
        "    test_pred=model_exercise(X_test)\n",
        "    test_loss=criterion(test_pred,y_test)\n",
        "\n",
        "  if epoch %10 == 0:\n",
        "    print(f\"Epoch: {epoch} Training Loss: {loss} Testing Loss: {test_loss}\")\n",
        "\n"
      ],
      "metadata": {
        "colab": {
          "base_uri": "https://localhost:8080/"
        },
        "id": "Ep1NCt64s5qT",
        "outputId": "3c05f964-77be-4d2c-9d05-1bdde60ef105"
      },
      "execution_count": null,
      "outputs": [
        {
          "output_type": "stream",
          "name": "stdout",
          "text": [
            "Epoch: 0 Training Loss: 0.0056626396253705025 Testing Loss: 0.014983976259827614\n",
            "Epoch: 10 Training Loss: 0.002934972755610943 Testing Loss: 0.006946186069399118\n",
            "Epoch: 20 Training Loss: 0.003966024145483971 Testing Loss: 0.004306380171328783\n",
            "Epoch: 30 Training Loss: 0.003966024145483971 Testing Loss: 0.004306380171328783\n",
            "Epoch: 40 Training Loss: 0.003966024145483971 Testing Loss: 0.004306380171328783\n",
            "Epoch: 50 Training Loss: 0.003966024145483971 Testing Loss: 0.004306380171328783\n",
            "Epoch: 60 Training Loss: 0.003966024145483971 Testing Loss: 0.004306380171328783\n",
            "Epoch: 70 Training Loss: 0.003966024145483971 Testing Loss: 0.004306380171328783\n",
            "Epoch: 80 Training Loss: 0.003966024145483971 Testing Loss: 0.004306380171328783\n",
            "Epoch: 90 Training Loss: 0.003966024145483971 Testing Loss: 0.004306380171328783\n"
          ]
        }
      ]
    },
    {
      "cell_type": "code",
      "source": [
        "model_exercise.state_dict()"
      ],
      "metadata": {
        "colab": {
          "base_uri": "https://localhost:8080/"
        },
        "id": "ws85s0PYu3-t",
        "outputId": "3296ce42-684d-405b-d8b6-a504b3fecb07"
      },
      "execution_count": null,
      "outputs": [
        {
          "output_type": "execute_result",
          "data": {
            "text/plain": [
              "OrderedDict([('linear_layer.weight', tensor([[0.8908]])),\n",
              "             ('linear_layer.bias', tensor([0.2992]))])"
            ]
          },
          "metadata": {},
          "execution_count": 38
        }
      ]
    },
    {
      "cell_type": "code",
      "source": [
        "def plot_predictions(train_data=X_train, train_labels=y_train, test_data=X_test, test_labels=y_test, predictions=None):\n",
        "    plt.figure(figsize=(10, 7))\n",
        "    plt.scatter(train_data, train_labels, c=\"b\", s=4, label=\"Training Data\")\n",
        "    plt.scatter(test_data, test_labels, c=\"g\", s=4, label=\"Testing Data\")\n",
        "\n",
        "    if predictions is not None:\n",
        "\n",
        "        model_exercise.eval()\n",
        "        with torch.inference_mode():\n",
        "            predictions = model_exercise(test_data)\n",
        "\n",
        "        predictions_np = predictions.detach().cpu().numpy()\n",
        "\n",
        "        plt.scatter(test_data, predictions_np, c=\"r\", s=4, label=\"Predictions\")\n",
        "\n",
        "    plt.legend()\n",
        "    plt.show()"
      ],
      "metadata": {
        "id": "aviLAe3Rwgrl"
      },
      "execution_count": null,
      "outputs": []
    },
    {
      "cell_type": "code",
      "source": [],
      "metadata": {
        "id": "Q2O2pOkzz0Ov"
      },
      "execution_count": null,
      "outputs": []
    },
    {
      "cell_type": "code",
      "source": [
        "plot_predictions()"
      ],
      "metadata": {
        "colab": {
          "base_uri": "https://localhost:8080/",
          "height": 489
        },
        "id": "krKbje9Bxk3Y",
        "outputId": "a8479d5a-04f8-4603-8376-66074e8bd53d"
      },
      "execution_count": null,
      "outputs": [
        {
          "output_type": "display_data",
          "data": {
            "text/plain": [
              "<Figure size 1000x700 with 1 Axes>"
            ],
            "image/png": "[encoded data removed]"
          },
          "metadata": {}
        }
      ]
    },
    {
      "cell_type": "code",
      "source": [
        "plot_predictions(predictions=y_pred)"
      ],
      "metadata": {
        "colab": {
          "base_uri": "https://localhost:8080/",
          "height": 489
        },
        "id": "-l5DBWDQxqNr",
        "outputId": "af79c00d-9568-419a-9eab-a49c72fdf58b"
      },
      "execution_count": null,
      "outputs": [
        {
          "output_type": "display_data",
          "data": {
            "text/plain": [
              "<Figure size 1000x700 with 1 Axes>"
            ],
            "image/png": "[encoded data removed]"
          },
          "metadata": {}
        }
      ]
    }
  ]
}