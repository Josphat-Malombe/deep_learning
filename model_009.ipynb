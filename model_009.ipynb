{
  "nbformat": 4,
  "nbformat_minor": 0,
  "metadata": {
    "colab": {
      "provenance": [],
      "gpuType": "T4",
      "authorship_tag": "ABX9TyMCuM2IeIgch+vcL+F5CufI",
      "include_colab_link": true
    },
    "kernelspec": {
      "name": "python3",
      "display_name": "Python 3"
    },
    "language_info": {
      "name": "python"
    },
    "accelerator": "GPU"
  },
  "cells": [
    {
      "cell_type": "markdown",
      "metadata": {
        "id": "view-in-github",
        "colab_type": "text"
      },
      "source": [
        "<a href=\"https://colab.research.google.com/github/Josphat-Malombe/deep_learning/blob/main/model_009.ipynb\" target=\"_parent\"><img src=\"https://colab.research.google.com/assets/colab-badge.svg\" alt=\"Open In Colab\"/></a>"
      ]
    },
    {
      "cell_type": "code",
      "execution_count": 1,
      "metadata": {
        "colab": {
          "base_uri": "https://localhost:8080/"
        },
        "id": "_nr8MkB3i80Q",
        "outputId": "c369c5bd-9e63-4977-e4e5-fbf370e9b9ef"
      },
      "outputs": [
        {
          "output_type": "stream",
          "name": "stdout",
          "text": [
            "Please provide your Kaggle credentials to download this dataset. Learn more: http://bit.ly/kaggle-creds\n",
            "Your Kaggle username: josphatmalombe\n",
            "Your Kaggle Key: ··········\n",
            "Dataset URL: https://www.kaggle.com/datasets/andrewmvd/animal-faces\n"
          ]
        }
      ],
      "source": [
        "!pip install kaggle --quiet\n",
        "!pip install opendatasets --quiet\n",
        "import opendatasets as od\n",
        "url=\"https://www.kaggle.com/datasets/andrewmvd/animal-faces\"\n",
        "od.download(url)"
      ]
    },
    {
      "cell_type": "code",
      "source": [
        "import torch\n",
        "import torch.nn as nn\n",
        "from torch.utils.data import Dataset,DataLoader\n",
        "from torchvision.transforms import transforms\n",
        "import pandas as pd\n",
        "import numpy as np\n",
        "from sklearn.preprocessing import LabelEncoder\n",
        "import os\n",
        "from PIL import Image"
      ],
      "metadata": {
        "id": "UD6x5pPAj5ix"
      },
      "execution_count": 15,
      "outputs": []
    },
    {
      "cell_type": "code",
      "source": [
        "device=\"cuda\" if torch.cuda.is_available() else \"cpu\""
      ],
      "metadata": {
        "id": "8UJcIuj1cC22"
      },
      "execution_count": 16,
      "outputs": []
    },
    {
      "cell_type": "code",
      "source": [
        "image_path=[]\n",
        "labels=[]\n",
        "\n",
        "for i in os.listdir(\"/content/animal-faces/afhq\"):\n",
        "  for label in os.listdir(f\"/content/animal-faces/afhq/{i}\"):\n",
        "    for image in os.listdir(f\"/content/animal-faces/afhq/{i}/{label}\"):\n",
        "      image_path.append(f\"/content/animal-faces/afhq/{i}/{label}/{image}\")\n",
        "      labels.append(label)\n",
        "data_df=pd.DataFrame({\"image_path\":image_path,\"label\":labels})\n",
        "data_df.head()\n",
        "\n"
      ],
      "metadata": {
        "id": "TW02ucKrnr2Z",
        "colab": {
          "base_uri": "https://localhost:8080/",
          "height": 206
        },
        "outputId": "50ad5878-6b93-4a25-d6b6-77dc2e6b7e5c"
      },
      "execution_count": 17,
      "outputs": [
        {
          "output_type": "execute_result",
          "data": {
            "text/plain": [
              "                                          image_path label\n",
              "0  /content/animal-faces/afhq/train/dog/pixabay_d...   dog\n",
              "1  /content/animal-faces/afhq/train/dog/flickr_do...   dog\n",
              "2  /content/animal-faces/afhq/train/dog/pixabay_d...   dog\n",
              "3  /content/animal-faces/afhq/train/dog/pixabay_d...   dog\n",
              "4  /content/animal-faces/afhq/train/dog/pixabay_d...   dog"
            ],
            "text/html": [
              "\n",
              "  <div id=\"df-fdb29335-29f1-4bff-af10-45bd73dd84ac\" class=\"colab-df-container\">\n",
              "    <div>\n",
              "<style scoped>\n",
              "    .dataframe tbody tr th:only-of-type {\n",
              "        vertical-align: middle;\n",
              "    }\n",
              "\n",
              "    .dataframe tbody tr th {\n",
              "        vertical-align: top;\n",
              "    }\n",
              "\n",
              "    .dataframe thead th {\n",
              "        text-align: right;\n",
              "    }\n",
              "</style>\n",
              "<table border=\"1\" class=\"dataframe\">\n",
              "  <thead>\n",
              "    <tr style=\"text-align: right;\">\n",
              "      <th></th>\n",
              "      <th>image_path</th>\n",
              "      <th>label</th>\n",
              "    </tr>\n",
              "  </thead>\n",
              "  <tbody>\n",
              "    <tr>\n",
              "      <th>0</th>\n",
              "      <td>/content/animal-faces/afhq/train/dog/pixabay_d...</td>\n",
              "      <td>dog</td>\n",
              "    </tr>\n",
              "    <tr>\n",
              "      <th>1</th>\n",
              "      <td>/content/animal-faces/afhq/train/dog/flickr_do...</td>\n",
              "      <td>dog</td>\n",
              "    </tr>\n",
              "    <tr>\n",
              "      <th>2</th>\n",
              "      <td>/content/animal-faces/afhq/train/dog/pixabay_d...</td>\n",
              "      <td>dog</td>\n",
              "    </tr>\n",
              "    <tr>\n",
              "      <th>3</th>\n",
              "      <td>/content/animal-faces/afhq/train/dog/pixabay_d...</td>\n",
              "      <td>dog</td>\n",
              "    </tr>\n",
              "    <tr>\n",
              "      <th>4</th>\n",
              "      <td>/content/animal-faces/afhq/train/dog/pixabay_d...</td>\n",
              "      <td>dog</td>\n",
              "    </tr>\n",
              "  </tbody>\n",
              "</table>\n",
              "</div>\n",
              "    <div class=\"colab-df-buttons\">\n",
              "\n",
              "  <div class=\"colab-df-container\">\n",
              "    <button class=\"colab-df-convert\" onclick=\"convertToInteractive('df-fdb29335-29f1-4bff-af10-45bd73dd84ac')\"\n",
              "            title=\"Convert this dataframe to an interactive table.\"\n",
              "            style=\"display:none;\">\n",
              "\n",
              "  <svg xmlns=\"http://www.w3.org/2000/svg\" height=\"24px\" viewBox=\"0 -960 960 960\">\n",
              "    <path d=\"M120-120v-720h720v720H120Zm60-500h600v-160H180v160Zm220 220h160v-160H400v160Zm0 220h160v-160H400v160ZM180-400h160v-160H180v160Zm440 0h160v-160H620v160ZM180-180h160v-160H180v160Zm440 0h160v-160H620v160Z\"/>\n",
              "  </svg>\n",
              "    </button>\n",
              "\n",
              "  <style>\n",
              "    .colab-df-container {\n",
              "      display:flex;\n",
              "      gap: 12px;\n",
              "    }\n",
              "\n",
              "    .colab-df-convert {\n",
              "      background-color: #E8F0FE;\n",
              "      border: none;\n",
              "      border-radius: 50%;\n",
              "      cursor: pointer;\n",
              "      display: none;\n",
              "      fill: #1967D2;\n",
              "      height: 32px;\n",
              "      padding: 0 0 0 0;\n",
              "      width: 32px;\n",
              "    }\n",
              "\n",
              "    .colab-df-convert:hover {\n",
              "      background-color: #E2EBFA;\n",
              "      box-shadow: 0px 1px 2px rgba(60, 64, 67, 0.3), 0px 1px 3px 1px rgba(60, 64, 67, 0.15);\n",
              "      fill: #174EA6;\n",
              "    }\n",
              "\n",
              "    .colab-df-buttons div {\n",
              "      margin-bottom: 4px;\n",
              "    }\n",
              "\n",
              "    [theme=dark] .colab-df-convert {\n",
              "      background-color: #3B4455;\n",
              "      fill: #D2E3FC;\n",
              "    }\n",
              "\n",
              "    [theme=dark] .colab-df-convert:hover {\n",
              "      background-color: #434B5C;\n",
              "      box-shadow: 0px 1px 3px 1px rgba(0, 0, 0, 0.15);\n",
              "      filter: drop-shadow(0px 1px 2px rgba(0, 0, 0, 0.3));\n",
              "      fill: #FFFFFF;\n",
              "    }\n",
              "  </style>\n",
              "\n",
              "    <script>\n",
              "      const buttonEl =\n",
              "        document.querySelector('#df-fdb29335-29f1-4bff-af10-45bd73dd84ac button.colab-df-convert');\n",
              "      buttonEl.style.display =\n",
              "        google.colab.kernel.accessAllowed ? 'block' : 'none';\n",
              "\n",
              "      async function convertToInteractive(key) {\n",
              "        const element = document.querySelector('#df-fdb29335-29f1-4bff-af10-45bd73dd84ac');\n",
              "        const dataTable =\n",
              "          await google.colab.kernel.invokeFunction('convertToInteractive',\n",
              "                                                    [key], {});\n",
              "        if (!dataTable) return;\n",
              "\n",
              "        const docLinkHtml = 'Like what you see? Visit the ' +\n",
              "          '<a target=\"_blank\" href=https://colab.research.google.com/notebooks/data_table.ipynb>data table notebook</a>'\n",
              "          + ' to learn more about interactive tables.';\n",
              "        element.innerHTML = '';\n",
              "        dataTable['output_type'] = 'display_data';\n",
              "        await google.colab.output.renderOutput(dataTable, element);\n",
              "        const docLink = document.createElement('div');\n",
              "        docLink.innerHTML = docLinkHtml;\n",
              "        element.appendChild(docLink);\n",
              "      }\n",
              "    </script>\n",
              "  </div>\n",
              "\n",
              "\n",
              "<div id=\"df-d0a77f0f-dbbe-43c1-9c08-90643e3222d4\">\n",
              "  <button class=\"colab-df-quickchart\" onclick=\"quickchart('df-d0a77f0f-dbbe-43c1-9c08-90643e3222d4')\"\n",
              "            title=\"Suggest charts\"\n",
              "            style=\"display:none;\">\n",
              "\n",
              "<svg xmlns=\"http://www.w3.org/2000/svg\" height=\"24px\"viewBox=\"0 0 24 24\"\n",
              "     width=\"24px\">\n",
              "    <g>\n",
              "        <path d=\"M19 3H5c-1.1 0-2 .9-2 2v14c0 1.1.9 2 2 2h14c1.1 0 2-.9 2-2V5c0-1.1-.9-2-2-2zM9 17H7v-7h2v7zm4 0h-2V7h2v10zm4 0h-2v-4h2v4z\"/>\n",
              "    </g>\n",
              "</svg>\n",
              "  </button>\n",
              "\n",
              "<style>\n",
              "  .colab-df-quickchart {\n",
              "      --bg-color: #E8F0FE;\n",
              "      --fill-color: #1967D2;\n",
              "      --hover-bg-color: #E2EBFA;\n",
              "      --hover-fill-color: #174EA6;\n",
              "      --disabled-fill-color: #AAA;\n",
              "      --disabled-bg-color: #DDD;\n",
              "  }\n",
              "\n",
              "  [theme=dark] .colab-df-quickchart {\n",
              "      --bg-color: #3B4455;\n",
              "      --fill-color: #D2E3FC;\n",
              "      --hover-bg-color: #434B5C;\n",
              "      --hover-fill-color: #FFFFFF;\n",
              "      --disabled-bg-color: #3B4455;\n",
              "      --disabled-fill-color: #666;\n",
              "  }\n",
              "\n",
              "  .colab-df-quickchart {\n",
              "    background-color: var(--bg-color);\n",
              "    border: none;\n",
              "    border-radius: 50%;\n",
              "    cursor: pointer;\n",
              "    display: none;\n",
              "    fill: var(--fill-color);\n",
              "    height: 32px;\n",
              "    padding: 0;\n",
              "    width: 32px;\n",
              "  }\n",
              "\n",
              "  .colab-df-quickchart:hover {\n",
              "    background-color: var(--hover-bg-color);\n",
              "    box-shadow: 0 1px 2px rgba(60, 64, 67, 0.3), 0 1px 3px 1px rgba(60, 64, 67, 0.15);\n",
              "    fill: var(--button-hover-fill-color);\n",
              "  }\n",
              "\n",
              "  .colab-df-quickchart-complete:disabled,\n",
              "  .colab-df-quickchart-complete:disabled:hover {\n",
              "    background-color: var(--disabled-bg-color);\n",
              "    fill: var(--disabled-fill-color);\n",
              "    box-shadow: none;\n",
              "  }\n",
              "\n",
              "  .colab-df-spinner {\n",
              "    border: 2px solid var(--fill-color);\n",
              "    border-color: transparent;\n",
              "    border-bottom-color: var(--fill-color);\n",
              "    animation:\n",
              "      spin 1s steps(1) infinite;\n",
              "  }\n",
              "\n",
              "  @keyframes spin {\n",
              "    0% {\n",
              "      border-color: transparent;\n",
              "      border-bottom-color: var(--fill-color);\n",
              "      border-left-color: var(--fill-color);\n",
              "    }\n",
              "    20% {\n",
              "      border-color: transparent;\n",
              "      border-left-color: var(--fill-color);\n",
              "      border-top-color: var(--fill-color);\n",
              "    }\n",
              "    30% {\n",
              "      border-color: transparent;\n",
              "      border-left-color: var(--fill-color);\n",
              "      border-top-color: var(--fill-color);\n",
              "      border-right-color: var(--fill-color);\n",
              "    }\n",
              "    40% {\n",
              "      border-color: transparent;\n",
              "      border-right-color: var(--fill-color);\n",
              "      border-top-color: var(--fill-color);\n",
              "    }\n",
              "    60% {\n",
              "      border-color: transparent;\n",
              "      border-right-color: var(--fill-color);\n",
              "    }\n",
              "    80% {\n",
              "      border-color: transparent;\n",
              "      border-right-color: var(--fill-color);\n",
              "      border-bottom-color: var(--fill-color);\n",
              "    }\n",
              "    90% {\n",
              "      border-color: transparent;\n",
              "      border-bottom-color: var(--fill-color);\n",
              "    }\n",
              "  }\n",
              "</style>\n",
              "\n",
              "  <script>\n",
              "    async function quickchart(key) {\n",
              "      const quickchartButtonEl =\n",
              "        document.querySelector('#' + key + ' button');\n",
              "      quickchartButtonEl.disabled = true;  // To prevent multiple clicks.\n",
              "      quickchartButtonEl.classList.add('colab-df-spinner');\n",
              "      try {\n",
              "        const charts = await google.colab.kernel.invokeFunction(\n",
              "            'suggestCharts', [key], {});\n",
              "      } catch (error) {\n",
              "        console.error('Error during call to suggestCharts:', error);\n",
              "      }\n",
              "      quickchartButtonEl.classList.remove('colab-df-spinner');\n",
              "      quickchartButtonEl.classList.add('colab-df-quickchart-complete');\n",
              "    }\n",
              "    (() => {\n",
              "      let quickchartButtonEl =\n",
              "        document.querySelector('#df-d0a77f0f-dbbe-43c1-9c08-90643e3222d4 button');\n",
              "      quickchartButtonEl.style.display =\n",
              "        google.colab.kernel.accessAllowed ? 'block' : 'none';\n",
              "    })();\n",
              "  </script>\n",
              "</div>\n",
              "\n",
              "    </div>\n",
              "  </div>\n"
            ],
            "application/vnd.google.colaboratory.intrinsic+json": {
              "type": "dataframe",
              "variable_name": "data_df",
              "summary": "{\n  \"name\": \"data_df\",\n  \"rows\": 16130,\n  \"fields\": [\n    {\n      \"column\": \"image_path\",\n      \"properties\": {\n        \"dtype\": \"string\",\n        \"num_unique_values\": 16130,\n        \"samples\": [\n          \"/content/animal-faces/afhq/train/cat/pixabay_cat_001363.jpg\",\n          \"/content/animal-faces/afhq/train/dog/pixabay_dog_003861.jpg\",\n          \"/content/animal-faces/afhq/train/wild/pixabay_wild_000701.jpg\"\n        ],\n        \"semantic_type\": \"\",\n        \"description\": \"\"\n      }\n    },\n    {\n      \"column\": \"label\",\n      \"properties\": {\n        \"dtype\": \"category\",\n        \"num_unique_values\": 3,\n        \"samples\": [\n          \"dog\",\n          \"cat\",\n          \"wild\"\n        ],\n        \"semantic_type\": \"\",\n        \"description\": \"\"\n      }\n    }\n  ]\n}"
            }
          },
          "metadata": {},
          "execution_count": 17
        }
      ]
    },
    {
      "cell_type": "code",
      "source": [
        "#shuffling the data to avoid bias\n",
        "data_df=data_df.sample(frac=1,random_state=42).reset_index(drop=True)\n",
        "#taking 70% of data assigning it to training\n",
        "train=data_df.sample(frac=0.7)\n",
        "#remaining 30% assigned to test\n",
        "test=data_df.drop(train.index)\n",
        "#50% of the test data assigned to validation\n",
        "val=test.sample(frac=0.5)\n",
        "test=test.drop(val.index)\n",
        "\n",
        "print(train.shape,val.shape,test.shape)"
      ],
      "metadata": {
        "colab": {
          "base_uri": "https://localhost:8080/"
        },
        "id": "9l_tUvjjzpkO",
        "outputId": "f4548f25-a81e-438e-d198-ec3dbc8a000a"
      },
      "execution_count": 18,
      "outputs": [
        {
          "output_type": "stream",
          "name": "stdout",
          "text": [
            "(11291, 2) (2420, 2) (2419, 2)\n"
          ]
        }
      ]
    },
    {
      "cell_type": "code",
      "source": [
        "label_encoder=LabelEncoder()\n",
        "label_encoder.fit(data_df['label'])\n",
        "\n",
        "train_transform=transforms.Compose([\n",
        "    transforms.Resize((224,224)),\n",
        "    transforms.RandomHorizontalFlip(),\n",
        "    transforms.RandomRotation(10),\n",
        "    transforms.ToTensor(),\n",
        "    transforms.ConvertImageDtype(torch.float32)\n",
        "])\n",
        "\n",
        "val_transform=transforms.Compose([\n",
        "    transforms.Resize((224,224)),\n",
        "    transforms.ToTensor(),\n",
        "    transforms.ConvertImageDtype(torch.float32)\n",
        "])\n",
        "\n"
      ],
      "metadata": {
        "collapsed": true,
        "id": "Aqyjl68T0ols"
      },
      "execution_count": 19,
      "outputs": []
    },
    {
      "cell_type": "code",
      "source": [
        "class dataset(Dataset):\n",
        "  def __init__(self,dataframe,transform=None):\n",
        "    self.dataframe=dataframe\n",
        "    self.transform=transform\n",
        "    self.labels=torch.Tensor(label_encoder.transform(self.dataframe['label'])).type(torch.LongTensor).to(device)\n",
        "\n",
        "  def __len__(self):\n",
        "    return len(self.dataframe)\n",
        "\n",
        "  def __getitem__(self, idx):\n",
        "    image_path=self.dataframe.iloc[idx,0]\n",
        "    label=self.labels[idx]\n",
        "    image=Image.open(image_path).convert(\"RGB\")\n",
        "\n",
        "    image=self.transform(image).to(device)\n",
        "    return image,label\n",
        "\n"
      ],
      "metadata": {
        "id": "fCjujgOJ1xUf"
      },
      "execution_count": 20,
      "outputs": []
    },
    {
      "cell_type": "code",
      "source": [
        "train_dataset=dataset(train,train_transform)\n",
        "test_dataset=dataset(test,val_transform)\n",
        "val_dataset=dataset(val,val_transform)\n",
        "\n",
        "print(len(train_dataset),len(test_dataset),len(val_dataset))"
      ],
      "metadata": {
        "colab": {
          "base_uri": "https://localhost:8080/"
        },
        "id": "PafszckNVySw",
        "outputId": "e44dfb2e-f0c6-4fe0-c552-19c3b9ebc54d"
      },
      "execution_count": 21,
      "outputs": [
        {
          "output_type": "stream",
          "name": "stdout",
          "text": [
            "11291 2419 2420\n"
          ]
        }
      ]
    },
    {
      "cell_type": "code",
      "source": [
        "train_dataloader=DataLoader(train_dataset,batch_size=32,shuffle=True)\n",
        "test_dataloader=DataLoader(test_dataset,batch_size=32,shuffle=True)\n",
        "val_dataloader=DataLoader(val_dataset,batch_size=32,shuffle=True)\n"
      ],
      "metadata": {
        "id": "NVR7Mh7HXll3"
      },
      "execution_count": 22,
      "outputs": []
    },
    {
      "cell_type": "code",
      "source": [
        "class ClassifiModel(nn.Module):\n",
        "  def __init__(self):\n",
        "    super().__init__()\n",
        "\n",
        "    self.conv_block1=nn.Sequential(\n",
        "        nn.Conv2d(in_channels=3,out_channels=32,kernel_size=3,padding=1),\n",
        "        nn.ReLU(),\n",
        "        nn.Conv2d(in_channels=32,out_channels=64,kernel_size=3,padding=1),\n",
        "        nn.ReLU(),\n",
        "        nn.MaxPool2d(2,2)\n",
        "    )\n",
        "    self.conv_block2=nn.Sequential(\n",
        "        nn.Conv2d(64,128,kernel_size=3,padding=1),\n",
        "        nn.ReLU(),\n",
        "        nn.Conv2d(128,128,kernel_size=3,padding=1),\n",
        "        nn.ReLU(),\n",
        "        nn.MaxPool2d(2,2)\n",
        "    )\n",
        "    self.flatten=nn.Flatten()\n",
        "    self.linear_block=nn.Sequential(\n",
        "        nn.Linear(128*56*56,512),\n",
        "        nn.ReLU(),\n",
        "        nn.Dropout(0.5),\n",
        "        nn.Linear(512,3)\n",
        "    )\n",
        "  def forward(self,x):\n",
        "    x=self.conv_block1(x)\n",
        "    x=self.conv_block2(x)\n",
        "    x=self.flatten(x)\n",
        "    x=self.linear_block(x)\n",
        "    return x\n"
      ],
      "metadata": {
        "id": "w9cdMXStX7fK"
      },
      "execution_count": 25,
      "outputs": []
    },
    {
      "cell_type": "code",
      "source": [
        "model=ClassifiModel().to(device)"
      ],
      "metadata": {
        "id": "BuqYwS0CaH82"
      },
      "execution_count": 26,
      "outputs": []
    },
    {
      "cell_type": "code",
      "source": [
        "from torchsummary import summary\n",
        "summary(model,(3,224,224))"
      ],
      "metadata": {
        "colab": {
          "base_uri": "https://localhost:8080/"
        },
        "id": "IJ9co5hWNzcF",
        "outputId": "3ab819ca-1f93-439d-93c4-1c1950db4387"
      },
      "execution_count": 27,
      "outputs": [
        {
          "output_type": "stream",
          "name": "stdout",
          "text": [
            "----------------------------------------------------------------\n",
            "        Layer (type)               Output Shape         Param #\n",
            "================================================================\n",
            "            Conv2d-1         [-1, 32, 224, 224]             896\n",
            "              ReLU-2         [-1, 32, 224, 224]               0\n",
            "            Conv2d-3         [-1, 64, 224, 224]          18,496\n",
            "              ReLU-4         [-1, 64, 224, 224]               0\n",
            "         MaxPool2d-5         [-1, 64, 112, 112]               0\n",
            "            Conv2d-6        [-1, 128, 112, 112]          73,856\n",
            "              ReLU-7        [-1, 128, 112, 112]               0\n",
            "            Conv2d-8        [-1, 128, 112, 112]         147,584\n",
            "              ReLU-9        [-1, 128, 112, 112]               0\n",
            "        MaxPool2d-10          [-1, 128, 56, 56]               0\n",
            "          Flatten-11               [-1, 401408]               0\n",
            "           Linear-12                  [-1, 512]     205,521,408\n",
            "             ReLU-13                  [-1, 512]               0\n",
            "          Dropout-14                  [-1, 512]               0\n",
            "           Linear-15                    [-1, 3]           1,539\n",
            "================================================================\n",
            "Total params: 205,763,779\n",
            "Trainable params: 205,763,779\n",
            "Non-trainable params: 0\n",
            "----------------------------------------------------------------\n",
            "Input size (MB): 0.57\n",
            "Forward/backward pass size (MB): 134.76\n",
            "Params size (MB): 784.93\n",
            "Estimated Total Size (MB): 920.26\n",
            "----------------------------------------------------------------\n"
          ]
        }
      ]
    },
    {
      "cell_type": "code",
      "source": [
        "criterion=nn.CrossEntropyLoss()\n",
        "optimizer=torch.optim.Adam(model.parameters(),lr=0.001)"
      ],
      "metadata": {
        "id": "aPMWXurQaTgb"
      },
      "execution_count": 28,
      "outputs": []
    },
    {
      "cell_type": "code",
      "source": [
        "epochs=10\n",
        "\n",
        "\n",
        "for epoch in range(epochs):\n",
        "  model.train()\n",
        "  train_loss,train_acc=0,0\n",
        "\n",
        "  for data in train_dataloader:\n",
        "    inputs,label=data\n",
        "    inputs,label=inputs.to(device),label.to(device)\n",
        "    optimizer.zero_grad()\n",
        "    outputs=model(inputs)\n",
        "    loss=criterion(outputs,label)\n",
        "    train_loss+=loss.item()\n",
        "    acc=(torch.argmax(outputs, dim=1)==label).sum().item()\n",
        "    train_acc+=acc\n",
        "    loss.backward()\n",
        "    optimizer.step()\n",
        "\n",
        "  model.eval()\n",
        "  val_loss,val_acc=0,0\n",
        "  with torch.no_grad():\n",
        "    for data in val_dataloader:\n",
        "      inputs,labels=data\n",
        "      inputs,labels=inputs.to(device),labels.to(device)\n",
        "      outputs=model(inputs)\n",
        "      loss=criterion(outputs,labels)\n",
        "      val_loss+=loss.item()\n",
        "      acc=(torch.argmax(outputs,dim=1)==labels).sum().item()\n",
        "      val_acc+=acc\n",
        "\n",
        "  train_loss/=len(train_dataloader)\n",
        "  val_loss/=len(val_dataloader)\n",
        "\n",
        "  train_acc=(train_acc/len(train_dataset))*100\n",
        "  val_acc=(val_acc/len(val_dataset))*100\n",
        "\n",
        "  print(f\"Epoch:{epoch+1}/{epochs} | Train loss:{train_loss:.4f} | Train Acc: {train_acc:.2f}% | Val loss: {val_loss:.4f} | val acc: {val_acc:.2f}%\")\n",
        "\n",
        "\n",
        "\n",
        "\n",
        "\n",
        "\n",
        "\n",
        "\n",
        "\n",
        "\n"
      ],
      "metadata": {
        "id": "6Mrj9wvVaZmc",
        "colab": {
          "base_uri": "https://localhost:8080/"
        },
        "outputId": "8bbaf7e3-3e36-4882-d1eb-77750d988eb4"
      },
      "execution_count": 30,
      "outputs": [
        {
          "output_type": "stream",
          "name": "stdout",
          "text": [
            "Epoch:1/10 | Train loss:0.8428 | Train Acc: 57.15% | Val loss: 0.4119 | val acc: 83.06%\n",
            "Epoch:2/10 | Train loss:0.4153 | Train Acc: 83.52% | Val loss: 0.3469 | val acc: 86.24%\n",
            "Epoch:3/10 | Train loss:0.3571 | Train Acc: 85.55% | Val loss: 0.2910 | val acc: 88.43%\n",
            "Epoch:4/10 | Train loss:0.3177 | Train Acc: 87.62% | Val loss: 0.2878 | val acc: 88.76%\n",
            "Epoch:5/10 | Train loss:0.2809 | Train Acc: 88.80% | Val loss: 0.2539 | val acc: 90.33%\n",
            "Epoch:6/10 | Train loss:0.2651 | Train Acc: 89.50% | Val loss: 0.2266 | val acc: 91.12%\n",
            "Epoch:7/10 | Train loss:0.2722 | Train Acc: 89.48% | Val loss: 0.2342 | val acc: 91.07%\n",
            "Epoch:8/10 | Train loss:0.2360 | Train Acc: 90.66% | Val loss: 0.2271 | val acc: 91.24%\n",
            "Epoch:9/10 | Train loss:0.2217 | Train Acc: 91.61% | Val loss: 0.2014 | val acc: 92.85%\n",
            "Epoch:10/10 | Train loss:0.2026 | Train Acc: 92.25% | Val loss: 0.1950 | val acc: 92.93%\n"
          ]
        }
      ]
    },
    {
      "cell_type": "code",
      "source": [],
      "metadata": {
        "id": "CUNWs-g8ljQC"
      },
      "execution_count": null,
      "outputs": []
    },
    {
      "cell_type": "code",
      "source": [],
      "metadata": {
        "id": "lkuott5cljNb"
      },
      "execution_count": null,
      "outputs": []
    }
  ]
}